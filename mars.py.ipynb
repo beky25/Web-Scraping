{
 "cells": [
  {
   "cell_type": "code",
   "execution_count": null,
   "metadata": {},
   "outputs": [],
   "source": [
    "#import dependencies\n",
    "from bs4 import BeautifulSoup as bs\n",
    "from splinter import Browser\n",
    "import os\n",
    "import pandas as pd\n",
    "import time\n",
    "from selenium import webdriver\n"
   ]
  },
  {
   "cell_type": "code",
   "execution_count": null,
   "metadata": {},
   "outputs": [],
   "source": [
    "def init_browser():\n",
    "    executable_path = {\"executable_path\":\"C:\\chromedriver_win32\\chromedriver\"}\n",
    "    return Browser(\"chrome\", **executable_path, headless = False)\n"
   ]
  },
  {
   "cell_type": "code",
   "execution_count": null,
   "metadata": {},
   "outputs": [],
   "source": [
    "def scrape():\n",
    "    browser = init_browser()\n",
    "    mars_facts_data = {}\n",
    "\n",
    "    nasa = \"https://mars.nasa.gov/news/\"\n",
    "    browser.visit(nasa)\n",
    "    time.sleep(2)\n",
    "\n",
    "    html = browser.html\n",
    "    soup = bs(html,\"html.parser\")"
   ]
  },
  {
   "cell_type": "code",
   "execution_count": null,
   "metadata": {},
   "outputs": [],
   "source": [
    "\n",
    "    #scrapping latest news about mars from nasa\n",
    "    news_title = soup.find(\"div\",class_=\"content_title\").text\n",
    "    news_paragraph = soup.find(\"div\", class_=\"article_teaser_body\").text\n",
    "    mars_facts_data['news_title'] = news_title\n",
    "    mars_facts_data['news_paragraph'] = news_paragraph \n",
    "    \n",
    "    #Mars Featured Image\n",
    "    nasa_image = \"https://www.jpl.nasa.gov/spaceimages/?search=&category=featured#submit\"\n",
    "    browser.visit(nasa_image)\n",
    "    time.sleep(2)\n",
    "\n",
    "    from urllib.parse import urlsplit\n",
    "    base_url = \"{0.scheme}://{0.netloc}/\".format(urlsplit(nasa_image))\n",
    "    \n",
    "    xpath = \"//*[@id=\\\"page\\\"]/section[3]/div/ul/li[1]/a/div/div[2]/img\""
   ]
  },
  {
   "cell_type": "code",
   "execution_count": null,
   "metadata": {},
   "outputs": [],
   "source": [
    "\n",
    "    #Use splinter to click on the mars featured image\n",
    "    #to bring the full resolution image\n",
    "    results = browser.find_by_xpath(xpath)\n",
    "    img = results[0]\n",
    "    img.click()\n",
    "    time.sleep(2)"
   ]
  },
  {
   "cell_type": "code",
   "execution_count": null,
   "metadata": {},
   "outputs": [],
   "source": [
    "    \n",
    "    #get image url using BeautifulSoup\n",
    "    html_image = browser.html\n",
    "    soup = bs(html_image, \"html.parser\")\n",
    "    img_url = soup.find(\"img\", class_=\"fancybox-image\")[\"src\"]\n",
    "    full_img_url = base_url + img_url\n",
    "    mars_facts_data[\"featured_image\"] = full_img_url\n",
    "    "
   ]
  },
  {
   "cell_type": "code",
   "execution_count": null,
   "metadata": {},
   "outputs": [],
   "source": [
    "\n",
    "    # #### Mars Weather\n",
    "\n",
    "    #get mars weather's latest tweet from the website\n",
    "    url_weather = \"https://twitter.com/marswxreport?lang=en\"\n",
    "    browser.visit(url_weather)\n",
    "    html_weather = browser.html\n",
    "    soup = bs(html_weather, \"html.parser\")\n",
    "    mars_weather = soup.find(\"p\", class_=\"TweetTextSize TweetTextSize--normal js-tweet-text tweet-text\").text\n",
    "    mars_facts_data[\"mars_weather\"] = mars_weathe"
   ]
  }
 ],
 "metadata": {
  "kernelspec": {
   "display_name": "Python 3",
   "language": "python",
   "name": "python3"
  },
  "language_info": {
   "codemirror_mode": {
    "name": "ipython",
    "version": 3
   },
   "file_extension": ".py",
   "mimetype": "text/x-python",
   "name": "python",
   "nbconvert_exporter": "python",
   "pygments_lexer": "ipython3",
   "version": "3.6.5"
  }
 },
 "nbformat": 4,
 "nbformat_minor": 2
}
